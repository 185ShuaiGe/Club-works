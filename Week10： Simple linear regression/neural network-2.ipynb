{
 "cells": [
  {
   "cell_type": "code",
   "execution_count": 1,
   "metadata": {},
   "outputs": [
    {
     "data": {
      "image/png": "[encoded data removed]",
      "text/plain": [
       "<Figure size 640x480 with 1 Axes>"
      ]
     },
     "metadata": {},
     "output_type": "display_data"
    },
    {
     "name": "stdout",
     "output_type": "stream",
     "text": [
      "Epoch 1/100, Loss: [172.54718702]\n",
      "Epoch 2/100, Loss: [128.33421972]\n",
      "Epoch 3/100, Loss: [99.73758748]\n",
      "Epoch 4/100, Loss: [80.70891473]\n",
      "Epoch 5/100, Loss: [67.85605738]\n",
      "Epoch 6/100, Loss: [59.03913428]\n",
      "Epoch 7/100, Loss: [52.89605049]\n",
      "Epoch 8/100, Loss: [48.55066972]\n",
      "Epoch 9/100, Loss: [45.43266572]\n",
      "Epoch 10/100, Loss: [43.1658079]\n",
      "Epoch 11/100, Loss: [41.49829675]\n",
      "Epoch 12/100, Loss: [40.25902608]\n",
      "Epoch 13/100, Loss: [39.32989919]\n",
      "Epoch 14/100, Loss: [38.62813803]\n",
      "Epoch 15/100, Loss: [38.09485257]\n",
      "Epoch 16/100, Loss: [37.68756217]\n",
      "Epoch 17/100, Loss: [37.37523475]\n",
      "Epoch 18/100, Loss: [37.13494692]\n",
      "Epoch 19/100, Loss: [36.94960073]\n",
      "Epoch 20/100, Loss: [36.806338]\n",
      "Epoch 21/100, Loss: [36.69542239]\n",
      "Epoch 22/100, Loss: [36.60943955]\n",
      "Epoch 23/100, Loss: [36.54271728]\n",
      "Epoch 24/100, Loss: [36.49089995]\n",
      "Epoch 25/100, Loss: [36.45063291]\n",
      "Epoch 26/100, Loss: [36.41932631]\n",
      "Epoch 27/100, Loss: [36.39497696]\n",
      "Epoch 28/100, Loss: [36.37603312]\n",
      "Epoch 29/100, Loss: [36.36129136]\n",
      "Epoch 30/100, Loss: [36.34981751]\n",
      "Epoch 31/100, Loss: [36.34088588]\n",
      "Epoch 32/100, Loss: [36.33393243]\n",
      "Epoch 33/100, Loss: [36.32851858]\n",
      "Epoch 34/100, Loss: [36.32430316]\n",
      "Epoch 35/100, Loss: [36.32102069]\n",
      "Epoch 36/100, Loss: [36.31846461]\n",
      "Epoch 37/100, Loss: [36.3164741]\n",
      "Epoch 38/100, Loss: [36.31492398]\n",
      "Epoch 39/100, Loss: [36.3137168]\n",
      "Epoch 40/100, Loss: [36.31277667]\n",
      "Epoch 41/100, Loss: [36.3120445]\n",
      "Epoch 42/100, Loss: [36.3114743]\n",
      "Epoch 43/100, Loss: [36.31103022]\n",
      "Epoch 44/100, Loss: [36.31068437]\n",
      "Epoch 45/100, Loss: [36.31041502]\n",
      "Epoch 46/100, Loss: [36.31020524]\n",
      "Epoch 47/100, Loss: [36.31004187]\n",
      "Epoch 48/100, Loss: [36.30991463]\n",
      "Epoch 49/100, Loss: [36.30981553]\n",
      "Epoch 50/100, Loss: [36.30973835]\n",
      "Epoch 51/100, Loss: [36.30967825]\n",
      "Epoch 52/100, Loss: [36.30963143]\n",
      "Epoch 53/100, Loss: [36.30959498]\n",
      "Epoch 54/100, Loss: [36.30956658]\n",
      "Epoch 55/100, Loss: [36.30954447]\n",
      "Epoch 56/100, Loss: [36.30952724]\n",
      "Epoch 57/100, Loss: [36.30951383]\n",
      "Epoch 58/100, Loss: [36.30950338]\n",
      "Epoch 59/100, Loss: [36.30949525]\n",
      "Epoch 60/100, Loss: [36.30948891]\n",
      "Epoch 61/100, Loss: [36.30948397]\n",
      "Epoch 62/100, Loss: [36.30948013]\n",
      "Epoch 63/100, Loss: [36.30947714]\n",
      "Epoch 64/100, Loss: [36.30947481]\n",
      "Epoch 65/100, Loss: [36.30947299]\n",
      "Epoch 66/100, Loss: [36.30947158]\n",
      "Epoch 67/100, Loss: [36.30947047]\n",
      "Epoch 68/100, Loss: [36.30946962]\n",
      "Epoch 69/100, Loss: [36.30946895]\n",
      "Epoch 70/100, Loss: [36.30946843]\n",
      "Epoch 71/100, Loss: [36.30946802]\n",
      "Epoch 72/100, Loss: [36.30946771]\n",
      "Epoch 73/100, Loss: [36.30946746]\n",
      "Epoch 74/100, Loss: [36.30946727]\n",
      "Epoch 75/100, Loss: [36.30946712]\n",
      "Epoch 76/100, Loss: [36.309467]\n",
      "Epoch 77/100, Loss: [36.30946691]\n",
      "Epoch 78/100, Loss: [36.30946684]\n",
      "Epoch 79/100, Loss: [36.30946679]\n",
      "Epoch 80/100, Loss: [36.30946675]\n",
      "Epoch 81/100, Loss: [36.30946671]\n",
      "Epoch 82/100, Loss: [36.30946669]\n",
      "Epoch 83/100, Loss: [36.30946667]\n",
      "Epoch 84/100, Loss: [36.30946665]\n",
      "Epoch 85/100, Loss: [36.30946664]\n",
      "Epoch 86/100, Loss: [36.30946663]\n",
      "Epoch 87/100, Loss: [36.30946662]\n",
      "Epoch 88/100, Loss: [36.30946662]\n",
      "Epoch 89/100, Loss: [36.30946661]\n",
      "Epoch 90/100, Loss: [36.30946661]\n",
      "Epoch 91/100, Loss: [36.30946661]\n",
      "Epoch 92/100, Loss: [36.3094666]\n",
      "Epoch 93/100, Loss: [36.3094666]\n",
      "Epoch 94/100, Loss: [36.3094666]\n",
      "Epoch 95/100, Loss: [36.3094666]\n",
      "Epoch 96/100, Loss: [36.3094666]\n",
      "Epoch 97/100, Loss: [36.3094666]\n",
      "Epoch 98/100, Loss: [36.3094666]\n",
      "Epoch 99/100, Loss: [36.3094666]\n",
      "Epoch 100/100, Loss: [36.3094666]\n"
     ]
    }
   ],
   "source": [
    "import numpy as np  \n",
    "import matplotlib.pyplot as plt  \n",
    "\n",
    "class NeuralNetwork():  \n",
    "    def __init__(self, input_nodes, output_nodes, learning_rate):  \n",
    "        self.inodes = input_nodes  \n",
    "        self.onodes = output_nodes  \n",
    "        self.lr = learning_rate  \n",
    "\n",
    "        self.w = np.random.uniform(-0.1, 0.1, input_nodes)  \n",
    "        self.b = np.random.uniform(-0.1, 0.1)  \n",
    "\n",
    "    def train(self, input, target):  \n",
    "        # 前向传播  \n",
    "        output = self.query(input)  \n",
    "\n",
    "        # 计算误差  \n",
    "        output_error = output - target  \n",
    "\n",
    "        # 计算导数  \n",
    "        d_w = output_error * input  \n",
    "        d_b = output_error  \n",
    "\n",
    "        # 更新参数  \n",
    "        self.w -= self.lr * d_w  \n",
    "        self.b -= self.lr * d_b  \n",
    "\n",
    "    def query(self, input):  \n",
    "        return self.w * input + self.b  \n",
    "\n",
    "    def train_all(self, data, epochs):  \n",
    "        for i in range(epochs):  \n",
    "            total_loss = 0  \n",
    "            for input, target in data:  \n",
    "                self.train(input, target)  \n",
    "                # 计算总损失  \n",
    "                total_loss += (self.query(input) - target) ** 2  \n",
    "            print(f'Epoch {i+1}/{epochs}, Loss: {total_loss/len(data)}')  \n",
    "\n",
    "# 使用示例  \n",
    "inputnodes = 1  \n",
    "outputnodes = 1  \n",
    "learning_rate = 0.01 \n",
    "\n",
    "n = NeuralNetwork(inputnodes, outputnodes, learning_rate)  \n",
    "\n",
    "# 读取训练数据  \n",
    "training_data_file = open(\"training_dataset/data.csv\", 'r')  \n",
    "training_data_list = training_data_file.readlines()  \n",
    "training_data_file.close()  \n",
    "\n",
    "all_values = [tuple(map(float, record.split(','))) for record in training_data_list]  \n",
    "\n",
    "# 可视化数据  \n",
    "x_array = [x[0] for x in all_values]  \n",
    "y_array = [x[1] for x in all_values]  \n",
    "\n",
    "plt.scatter(x_array, y_array)  \n",
    "plt.xlabel('x')  \n",
    "plt.ylabel('y')  \n",
    "plt.show()  \n",
    "\n",
    "# 训练模型  \n",
    "n.train_all(all_values, epochs=100)  "
   ]
  },
  {
   "cell_type": "code",
   "execution_count": 2,
   "metadata": {},
   "outputs": [
    {
     "data": {
      "text/plain": [
       "array([19.9355298])"
      ]
     },
     "execution_count": 2,
     "metadata": {},
     "output_type": "execute_result"
    }
   ],
   "source": [
    "n.query(22.5)"
   ]
  },
  {
   "cell_type": "code",
   "execution_count": 3,
   "metadata": {},
   "outputs": [
    {
     "data": {
      "text/plain": [
       "array([1.05705257])"
      ]
     },
     "execution_count": 3,
     "metadata": {},
     "output_type": "execute_result"
    }
   ],
   "source": [
    "n.w"
   ]
  },
  {
   "cell_type": "code",
   "execution_count": 4,
   "metadata": {},
   "outputs": [
    {
     "data": {
      "text/plain": [
       "array([-3.84815292])"
      ]
     },
     "execution_count": 4,
     "metadata": {},
     "output_type": "execute_result"
    }
   ],
   "source": [
    "n.b"
   ]
  },
  {
   "cell_type": "code",
   "execution_count": null,
   "metadata": {},
   "outputs": [],
   "source": []
  }
 ],
 "metadata": {
  "kernelspec": {
   "display_name": "base",
   "language": "python",
   "name": "python3"
  },
  "language_info": {
   "codemirror_mode": {
    "name": "ipython",
    "version": 3
   },
   "file_extension": ".py",
   "mimetype": "text/x-python",
   "name": "python",
   "nbconvert_exporter": "python",
   "pygments_lexer": "ipython3",
   "version": "3.12.7"
  }
 },
 "nbformat": 4,
 "nbformat_minor": 2
}
